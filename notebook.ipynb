{
 "cells": [
  {
   "cell_type": "code",
   "execution_count": 1,
   "id": "e91fa7b8-5d12-4fcc-92b2-c4ae1a442c05",
   "metadata": {},
   "outputs": [],
   "source": [
    "# import libraries\n",
    "import pandas as pd\n",
    "import numpy as np\n",
    "import seaborn as sns\n",
    "import matplotlib.pyplot as plt"
   ]
  },
  {
   "cell_type": "code",
   "execution_count": 2,
   "id": "a54e0fa4-0011-41b8-ae0c-069087bf4691",
   "metadata": {},
   "outputs": [],
   "source": [
    "# read csv\n",
    "df=pd.read_csv(\"travel_insurance.csv\")"
   ]
  },
  {
   "cell_type": "code",
   "execution_count": 3,
   "id": "8c442e9a-0e43-4ef2-aa3f-02297ddb5bc3",
   "metadata": {},
   "outputs": [],
   "source": [
    "# questions\n",
    "#Are there differences in the travel habits between customers and non-customers?\n",
    "#What is the typical profile of customers and non-customers?"
   ]
  },
  {
   "cell_type": "markdown",
   "id": "8743d2ca-b511-4b35-b0f3-ec1e63259af0",
   "metadata": {},
   "source": [
    "# EDA"
   ]
  },
  {
   "cell_type": "code",
   "execution_count": 4,
   "id": "5b59a519-1f59-4b1c-b07a-4725e9ebbae6",
   "metadata": {},
   "outputs": [
    {
     "data": {
      "text/html": [
       "<div>\n",
       "<style scoped>\n",
       "    .dataframe tbody tr th:only-of-type {\n",
       "        vertical-align: middle;\n",
       "    }\n",
       "\n",
       "    .dataframe tbody tr th {\n",
       "        vertical-align: top;\n",
       "    }\n",
       "\n",
       "    .dataframe thead th {\n",
       "        text-align: right;\n",
       "    }\n",
       "</style>\n",
       "<table border=\"1\" class=\"dataframe\">\n",
       "  <thead>\n",
       "    <tr style=\"text-align: right;\">\n",
       "      <th></th>\n",
       "      <th>Age</th>\n",
       "      <th>Employment Type</th>\n",
       "      <th>GraduateOrNot</th>\n",
       "      <th>AnnualIncome</th>\n",
       "      <th>FamilyMembers</th>\n",
       "      <th>ChronicDiseases</th>\n",
       "      <th>FrequentFlyer</th>\n",
       "      <th>EverTravelledAbroad</th>\n",
       "      <th>TravelInsurance</th>\n",
       "    </tr>\n",
       "  </thead>\n",
       "  <tbody>\n",
       "    <tr>\n",
       "      <th>0</th>\n",
       "      <td>31</td>\n",
       "      <td>Government Sector</td>\n",
       "      <td>Yes</td>\n",
       "      <td>400000</td>\n",
       "      <td>6</td>\n",
       "      <td>1</td>\n",
       "      <td>No</td>\n",
       "      <td>No</td>\n",
       "      <td>0</td>\n",
       "    </tr>\n",
       "    <tr>\n",
       "      <th>1</th>\n",
       "      <td>31</td>\n",
       "      <td>Private Sector/Self Employed</td>\n",
       "      <td>Yes</td>\n",
       "      <td>1250000</td>\n",
       "      <td>7</td>\n",
       "      <td>0</td>\n",
       "      <td>No</td>\n",
       "      <td>No</td>\n",
       "      <td>0</td>\n",
       "    </tr>\n",
       "    <tr>\n",
       "      <th>2</th>\n",
       "      <td>34</td>\n",
       "      <td>Private Sector/Self Employed</td>\n",
       "      <td>Yes</td>\n",
       "      <td>500000</td>\n",
       "      <td>4</td>\n",
       "      <td>1</td>\n",
       "      <td>No</td>\n",
       "      <td>No</td>\n",
       "      <td>1</td>\n",
       "    </tr>\n",
       "    <tr>\n",
       "      <th>3</th>\n",
       "      <td>28</td>\n",
       "      <td>Private Sector/Self Employed</td>\n",
       "      <td>Yes</td>\n",
       "      <td>700000</td>\n",
       "      <td>3</td>\n",
       "      <td>1</td>\n",
       "      <td>No</td>\n",
       "      <td>No</td>\n",
       "      <td>0</td>\n",
       "    </tr>\n",
       "    <tr>\n",
       "      <th>4</th>\n",
       "      <td>28</td>\n",
       "      <td>Private Sector/Self Employed</td>\n",
       "      <td>Yes</td>\n",
       "      <td>700000</td>\n",
       "      <td>8</td>\n",
       "      <td>1</td>\n",
       "      <td>Yes</td>\n",
       "      <td>No</td>\n",
       "      <td>0</td>\n",
       "    </tr>\n",
       "  </tbody>\n",
       "</table>\n",
       "</div>"
      ],
      "text/plain": [
       "   Age               Employment Type GraduateOrNot  AnnualIncome  \\\n",
       "0   31             Government Sector           Yes        400000   \n",
       "1   31  Private Sector/Self Employed           Yes       1250000   \n",
       "2   34  Private Sector/Self Employed           Yes        500000   \n",
       "3   28  Private Sector/Self Employed           Yes        700000   \n",
       "4   28  Private Sector/Self Employed           Yes        700000   \n",
       "\n",
       "   FamilyMembers  ChronicDiseases FrequentFlyer EverTravelledAbroad  \\\n",
       "0              6                1            No                  No   \n",
       "1              7                0            No                  No   \n",
       "2              4                1            No                  No   \n",
       "3              3                1            No                  No   \n",
       "4              8                1           Yes                  No   \n",
       "\n",
       "   TravelInsurance  \n",
       "0                0  \n",
       "1                0  \n",
       "2                1  \n",
       "3                0  \n",
       "4                0  "
      ]
     },
     "execution_count": 4,
     "metadata": {},
     "output_type": "execute_result"
    }
   ],
   "source": [
    "df.head()"
   ]
  },
  {
   "cell_type": "code",
   "execution_count": 5,
   "id": "8e280f49-9517-46ce-a8fa-3463d70922aa",
   "metadata": {},
   "outputs": [
    {
     "name": "stdout",
     "output_type": "stream",
     "text": [
      "<class 'pandas.core.frame.DataFrame'>\n",
      "RangeIndex: 1987 entries, 0 to 1986\n",
      "Data columns (total 9 columns):\n",
      " #   Column               Non-Null Count  Dtype \n",
      "---  ------               --------------  ----- \n",
      " 0   Age                  1987 non-null   int64 \n",
      " 1   Employment Type      1987 non-null   object\n",
      " 2   GraduateOrNot        1987 non-null   object\n",
      " 3   AnnualIncome         1987 non-null   int64 \n",
      " 4   FamilyMembers        1987 non-null   int64 \n",
      " 5   ChronicDiseases      1987 non-null   int64 \n",
      " 6   FrequentFlyer        1987 non-null   object\n",
      " 7   EverTravelledAbroad  1987 non-null   object\n",
      " 8   TravelInsurance      1987 non-null   int64 \n",
      "dtypes: int64(5), object(4)\n",
      "memory usage: 139.8+ KB\n"
     ]
    }
   ],
   "source": [
    "# check data types\n",
    "df.info()"
   ]
  },
  {
   "cell_type": "code",
   "execution_count": 6,
   "id": "92ec10b6-6bed-4c35-b295-15a55aa14568",
   "metadata": {},
   "outputs": [
    {
     "data": {
      "text/html": [
       "<div>\n",
       "<style scoped>\n",
       "    .dataframe tbody tr th:only-of-type {\n",
       "        vertical-align: middle;\n",
       "    }\n",
       "\n",
       "    .dataframe tbody tr th {\n",
       "        vertical-align: top;\n",
       "    }\n",
       "\n",
       "    .dataframe thead th {\n",
       "        text-align: right;\n",
       "    }\n",
       "</style>\n",
       "<table border=\"1\" class=\"dataframe\">\n",
       "  <thead>\n",
       "    <tr style=\"text-align: right;\">\n",
       "      <th></th>\n",
       "      <th>Age</th>\n",
       "      <th>Employment Type</th>\n",
       "      <th>GraduateOrNot</th>\n",
       "      <th>AnnualIncome</th>\n",
       "      <th>FamilyMembers</th>\n",
       "      <th>ChronicDiseases</th>\n",
       "      <th>FrequentFlyer</th>\n",
       "      <th>EverTravelledAbroad</th>\n",
       "      <th>TravelInsurance</th>\n",
       "    </tr>\n",
       "  </thead>\n",
       "  <tbody>\n",
       "    <tr>\n",
       "      <th>2</th>\n",
       "      <td>34</td>\n",
       "      <td>Private Sector/Self Employed</td>\n",
       "      <td>Yes</td>\n",
       "      <td>500000</td>\n",
       "      <td>4</td>\n",
       "      <td>1</td>\n",
       "      <td>No</td>\n",
       "      <td>No</td>\n",
       "      <td>1</td>\n",
       "    </tr>\n",
       "    <tr>\n",
       "      <th>7</th>\n",
       "      <td>31</td>\n",
       "      <td>Private Sector/Self Employed</td>\n",
       "      <td>Yes</td>\n",
       "      <td>1350000</td>\n",
       "      <td>3</td>\n",
       "      <td>0</td>\n",
       "      <td>Yes</td>\n",
       "      <td>Yes</td>\n",
       "      <td>1</td>\n",
       "    </tr>\n",
       "    <tr>\n",
       "      <th>8</th>\n",
       "      <td>28</td>\n",
       "      <td>Private Sector/Self Employed</td>\n",
       "      <td>Yes</td>\n",
       "      <td>1450000</td>\n",
       "      <td>6</td>\n",
       "      <td>1</td>\n",
       "      <td>Yes</td>\n",
       "      <td>Yes</td>\n",
       "      <td>1</td>\n",
       "    </tr>\n",
       "    <tr>\n",
       "      <th>11</th>\n",
       "      <td>26</td>\n",
       "      <td>Private Sector/Self Employed</td>\n",
       "      <td>Yes</td>\n",
       "      <td>1400000</td>\n",
       "      <td>5</td>\n",
       "      <td>0</td>\n",
       "      <td>Yes</td>\n",
       "      <td>Yes</td>\n",
       "      <td>1</td>\n",
       "    </tr>\n",
       "    <tr>\n",
       "      <th>12</th>\n",
       "      <td>32</td>\n",
       "      <td>Government Sector</td>\n",
       "      <td>Yes</td>\n",
       "      <td>850000</td>\n",
       "      <td>6</td>\n",
       "      <td>0</td>\n",
       "      <td>No</td>\n",
       "      <td>No</td>\n",
       "      <td>1</td>\n",
       "    </tr>\n",
       "  </tbody>\n",
       "</table>\n",
       "</div>"
      ],
      "text/plain": [
       "    Age               Employment Type GraduateOrNot  AnnualIncome  \\\n",
       "2    34  Private Sector/Self Employed           Yes        500000   \n",
       "7    31  Private Sector/Self Employed           Yes       1350000   \n",
       "8    28  Private Sector/Self Employed           Yes       1450000   \n",
       "11   26  Private Sector/Self Employed           Yes       1400000   \n",
       "12   32             Government Sector           Yes        850000   \n",
       "\n",
       "    FamilyMembers  ChronicDiseases FrequentFlyer EverTravelledAbroad  \\\n",
       "2               4                1            No                  No   \n",
       "7               3                0           Yes                 Yes   \n",
       "8               6                1           Yes                 Yes   \n",
       "11              5                0           Yes                 Yes   \n",
       "12              6                0            No                  No   \n",
       "\n",
       "    TravelInsurance  \n",
       "2                 1  \n",
       "7                 1  \n",
       "8                 1  \n",
       "11                1  \n",
       "12                1  "
      ]
     },
     "execution_count": 6,
     "metadata": {},
     "output_type": "execute_result"
    }
   ],
   "source": [
    "# create customer df\n",
    "cust=df.loc[df['TravelInsurance']==1]\n",
    "cust.head()"
   ]
  },
  {
   "cell_type": "code",
   "execution_count": 7,
   "id": "d6600662-f8a5-4dd5-af44-86efe398b5d1",
   "metadata": {},
   "outputs": [
    {
     "data": {
      "text/plain": [
       "1987"
      ]
     },
     "execution_count": 7,
     "metadata": {},
     "output_type": "execute_result"
    }
   ],
   "source": [
    "len(df)"
   ]
  },
  {
   "cell_type": "code",
   "execution_count": 8,
   "id": "878b1273-0a90-45d3-bc1c-237ffb6cf6de",
   "metadata": {},
   "outputs": [
    {
     "data": {
      "text/plain": [
       "710"
      ]
     },
     "execution_count": 8,
     "metadata": {},
     "output_type": "execute_result"
    }
   ],
   "source": [
    "# how many customers are there?\n",
    "len(cust)"
   ]
  },
  {
   "cell_type": "code",
   "execution_count": 9,
   "id": "99780479-512e-4832-8d94-1cc9d86c9837",
   "metadata": {},
   "outputs": [
    {
     "data": {
      "text/plain": [
       "0.3573225968797182"
      ]
     },
     "execution_count": 9,
     "metadata": {},
     "output_type": "execute_result"
    }
   ],
   "source": [
    "# % of total users? \n",
    "len(cust)/len(df)"
   ]
  },
  {
   "cell_type": "code",
   "execution_count": 10,
   "id": "c4474ca7-9930-4d21-af29-ba35b4edf684",
   "metadata": {},
   "outputs": [
    {
     "data": {
      "text/html": [
       "<div>\n",
       "<style scoped>\n",
       "    .dataframe tbody tr th:only-of-type {\n",
       "        vertical-align: middle;\n",
       "    }\n",
       "\n",
       "    .dataframe tbody tr th {\n",
       "        vertical-align: top;\n",
       "    }\n",
       "\n",
       "    .dataframe thead th {\n",
       "        text-align: right;\n",
       "    }\n",
       "</style>\n",
       "<table border=\"1\" class=\"dataframe\">\n",
       "  <thead>\n",
       "    <tr style=\"text-align: right;\">\n",
       "      <th></th>\n",
       "      <th>Age</th>\n",
       "      <th>AnnualIncome</th>\n",
       "      <th>FamilyMembers</th>\n",
       "      <th>ChronicDiseases</th>\n",
       "      <th>TravelInsurance</th>\n",
       "    </tr>\n",
       "  </thead>\n",
       "  <tbody>\n",
       "    <tr>\n",
       "      <th>count</th>\n",
       "      <td>710.000000</td>\n",
       "      <td>7.100000e+02</td>\n",
       "      <td>710.000000</td>\n",
       "      <td>710.000000</td>\n",
       "      <td>710.0</td>\n",
       "    </tr>\n",
       "    <tr>\n",
       "      <th>mean</th>\n",
       "      <td>29.888732</td>\n",
       "      <td>1.133239e+06</td>\n",
       "      <td>4.925352</td>\n",
       "      <td>0.288732</td>\n",
       "      <td>1.0</td>\n",
       "    </tr>\n",
       "    <tr>\n",
       "      <th>std</th>\n",
       "      <td>3.331732</td>\n",
       "      <td>3.748447e+05</td>\n",
       "      <td>1.678304</td>\n",
       "      <td>0.453493</td>\n",
       "      <td>0.0</td>\n",
       "    </tr>\n",
       "    <tr>\n",
       "      <th>min</th>\n",
       "      <td>25.000000</td>\n",
       "      <td>3.000000e+05</td>\n",
       "      <td>2.000000</td>\n",
       "      <td>0.000000</td>\n",
       "      <td>1.0</td>\n",
       "    </tr>\n",
       "    <tr>\n",
       "      <th>25%</th>\n",
       "      <td>27.000000</td>\n",
       "      <td>8.000000e+05</td>\n",
       "      <td>4.000000</td>\n",
       "      <td>0.000000</td>\n",
       "      <td>1.0</td>\n",
       "    </tr>\n",
       "    <tr>\n",
       "      <th>50%</th>\n",
       "      <td>30.000000</td>\n",
       "      <td>1.250000e+06</td>\n",
       "      <td>5.000000</td>\n",
       "      <td>0.000000</td>\n",
       "      <td>1.0</td>\n",
       "    </tr>\n",
       "    <tr>\n",
       "      <th>75%</th>\n",
       "      <td>33.000000</td>\n",
       "      <td>1.400000e+06</td>\n",
       "      <td>6.000000</td>\n",
       "      <td>1.000000</td>\n",
       "      <td>1.0</td>\n",
       "    </tr>\n",
       "    <tr>\n",
       "      <th>max</th>\n",
       "      <td>35.000000</td>\n",
       "      <td>1.800000e+06</td>\n",
       "      <td>9.000000</td>\n",
       "      <td>1.000000</td>\n",
       "      <td>1.0</td>\n",
       "    </tr>\n",
       "  </tbody>\n",
       "</table>\n",
       "</div>"
      ],
      "text/plain": [
       "              Age  AnnualIncome  FamilyMembers  ChronicDiseases  \\\n",
       "count  710.000000  7.100000e+02     710.000000       710.000000   \n",
       "mean    29.888732  1.133239e+06       4.925352         0.288732   \n",
       "std      3.331732  3.748447e+05       1.678304         0.453493   \n",
       "min     25.000000  3.000000e+05       2.000000         0.000000   \n",
       "25%     27.000000  8.000000e+05       4.000000         0.000000   \n",
       "50%     30.000000  1.250000e+06       5.000000         0.000000   \n",
       "75%     33.000000  1.400000e+06       6.000000         1.000000   \n",
       "max     35.000000  1.800000e+06       9.000000         1.000000   \n",
       "\n",
       "       TravelInsurance  \n",
       "count            710.0  \n",
       "mean               1.0  \n",
       "std                0.0  \n",
       "min                1.0  \n",
       "25%                1.0  \n",
       "50%                1.0  \n",
       "75%                1.0  \n",
       "max                1.0  "
      ]
     },
     "execution_count": 10,
     "metadata": {},
     "output_type": "execute_result"
    }
   ],
   "source": [
    "# descriptive stats of customers\n",
    "cust.describe()"
   ]
  },
  {
   "cell_type": "code",
   "execution_count": 11,
   "id": "327dede4-2fe6-4ba0-a4c6-18d6aea431eb",
   "metadata": {},
   "outputs": [
    {
     "data": {
      "text/html": [
       "<div>\n",
       "<style scoped>\n",
       "    .dataframe tbody tr th:only-of-type {\n",
       "        vertical-align: middle;\n",
       "    }\n",
       "\n",
       "    .dataframe tbody tr th {\n",
       "        vertical-align: top;\n",
       "    }\n",
       "\n",
       "    .dataframe thead th {\n",
       "        text-align: right;\n",
       "    }\n",
       "</style>\n",
       "<table border=\"1\" class=\"dataframe\">\n",
       "  <thead>\n",
       "    <tr style=\"text-align: right;\">\n",
       "      <th></th>\n",
       "      <th>Age</th>\n",
       "      <th>Employment Type</th>\n",
       "      <th>GraduateOrNot</th>\n",
       "      <th>AnnualIncome</th>\n",
       "      <th>FamilyMembers</th>\n",
       "      <th>ChronicDiseases</th>\n",
       "      <th>FrequentFlyer</th>\n",
       "      <th>EverTravelledAbroad</th>\n",
       "      <th>TravelInsurance</th>\n",
       "    </tr>\n",
       "  </thead>\n",
       "  <tbody>\n",
       "    <tr>\n",
       "      <th>0</th>\n",
       "      <td>31</td>\n",
       "      <td>Government Sector</td>\n",
       "      <td>Yes</td>\n",
       "      <td>400000</td>\n",
       "      <td>6</td>\n",
       "      <td>1</td>\n",
       "      <td>No</td>\n",
       "      <td>No</td>\n",
       "      <td>0</td>\n",
       "    </tr>\n",
       "    <tr>\n",
       "      <th>1</th>\n",
       "      <td>31</td>\n",
       "      <td>Private Sector/Self Employed</td>\n",
       "      <td>Yes</td>\n",
       "      <td>1250000</td>\n",
       "      <td>7</td>\n",
       "      <td>0</td>\n",
       "      <td>No</td>\n",
       "      <td>No</td>\n",
       "      <td>0</td>\n",
       "    </tr>\n",
       "    <tr>\n",
       "      <th>3</th>\n",
       "      <td>28</td>\n",
       "      <td>Private Sector/Self Employed</td>\n",
       "      <td>Yes</td>\n",
       "      <td>700000</td>\n",
       "      <td>3</td>\n",
       "      <td>1</td>\n",
       "      <td>No</td>\n",
       "      <td>No</td>\n",
       "      <td>0</td>\n",
       "    </tr>\n",
       "    <tr>\n",
       "      <th>4</th>\n",
       "      <td>28</td>\n",
       "      <td>Private Sector/Self Employed</td>\n",
       "      <td>Yes</td>\n",
       "      <td>700000</td>\n",
       "      <td>8</td>\n",
       "      <td>1</td>\n",
       "      <td>Yes</td>\n",
       "      <td>No</td>\n",
       "      <td>0</td>\n",
       "    </tr>\n",
       "    <tr>\n",
       "      <th>5</th>\n",
       "      <td>25</td>\n",
       "      <td>Private Sector/Self Employed</td>\n",
       "      <td>No</td>\n",
       "      <td>1150000</td>\n",
       "      <td>4</td>\n",
       "      <td>0</td>\n",
       "      <td>No</td>\n",
       "      <td>No</td>\n",
       "      <td>0</td>\n",
       "    </tr>\n",
       "  </tbody>\n",
       "</table>\n",
       "</div>"
      ],
      "text/plain": [
       "   Age               Employment Type GraduateOrNot  AnnualIncome  \\\n",
       "0   31             Government Sector           Yes        400000   \n",
       "1   31  Private Sector/Self Employed           Yes       1250000   \n",
       "3   28  Private Sector/Self Employed           Yes        700000   \n",
       "4   28  Private Sector/Self Employed           Yes        700000   \n",
       "5   25  Private Sector/Self Employed            No       1150000   \n",
       "\n",
       "   FamilyMembers  ChronicDiseases FrequentFlyer EverTravelledAbroad  \\\n",
       "0              6                1            No                  No   \n",
       "1              7                0            No                  No   \n",
       "3              3                1            No                  No   \n",
       "4              8                1           Yes                  No   \n",
       "5              4                0            No                  No   \n",
       "\n",
       "   TravelInsurance  \n",
       "0                0  \n",
       "1                0  \n",
       "3                0  \n",
       "4                0  \n",
       "5                0  "
      ]
     },
     "execution_count": 11,
     "metadata": {},
     "output_type": "execute_result"
    }
   ],
   "source": [
    "# create non-customer df \n",
    "non_cust=df.loc[df['TravelInsurance']==0]\n",
    "non_cust.head()"
   ]
  },
  {
   "cell_type": "code",
   "execution_count": 12,
   "id": "0867ddeb-7be7-44a8-80d1-25bdf78e0fb1",
   "metadata": {},
   "outputs": [
    {
     "data": {
      "text/plain": [
       "1277"
      ]
     },
     "execution_count": 12,
     "metadata": {},
     "output_type": "execute_result"
    }
   ],
   "source": [
    "# how many non-customers are there?\n",
    "len(non_cust)"
   ]
  },
  {
   "cell_type": "code",
   "execution_count": 13,
   "id": "ec92af44-770a-4ce3-8dd6-92839b03c6eb",
   "metadata": {},
   "outputs": [
    {
     "data": {
      "text/plain": [
       "array([31, 34, 28, 25, 33, 26, 32, 29, 35, 30, 27], dtype=int64)"
      ]
     },
     "execution_count": 13,
     "metadata": {},
     "output_type": "execute_result"
    }
   ],
   "source": [
    "df['Age'].unique()"
   ]
  },
  {
   "cell_type": "code",
   "execution_count": 14,
   "id": "f4e89173-e772-4dbf-84e6-b0e718cd7101",
   "metadata": {},
   "outputs": [
    {
     "data": {
      "text/plain": [
       "0.6426774031202819"
      ]
     },
     "execution_count": 14,
     "metadata": {},
     "output_type": "execute_result"
    }
   ],
   "source": [
    "# % of total? \n",
    "len(non_cust)/len(df)"
   ]
  },
  {
   "cell_type": "code",
   "execution_count": 15,
   "id": "570860fe-eca6-4ef6-b34c-c2c302c95da4",
   "metadata": {},
   "outputs": [
    {
     "data": {
      "text/html": [
       "<div>\n",
       "<style scoped>\n",
       "    .dataframe tbody tr th:only-of-type {\n",
       "        vertical-align: middle;\n",
       "    }\n",
       "\n",
       "    .dataframe tbody tr th {\n",
       "        vertical-align: top;\n",
       "    }\n",
       "\n",
       "    .dataframe thead th {\n",
       "        text-align: right;\n",
       "    }\n",
       "</style>\n",
       "<table border=\"1\" class=\"dataframe\">\n",
       "  <thead>\n",
       "    <tr style=\"text-align: right;\">\n",
       "      <th></th>\n",
       "      <th>Age</th>\n",
       "      <th>AnnualIncome</th>\n",
       "      <th>FamilyMembers</th>\n",
       "      <th>ChronicDiseases</th>\n",
       "      <th>TravelInsurance</th>\n",
       "    </tr>\n",
       "  </thead>\n",
       "  <tbody>\n",
       "    <tr>\n",
       "      <th>count</th>\n",
       "      <td>1277.000000</td>\n",
       "      <td>1.277000e+03</td>\n",
       "      <td>1277.000000</td>\n",
       "      <td>1277.000000</td>\n",
       "      <td>1277.0</td>\n",
       "    </tr>\n",
       "    <tr>\n",
       "      <th>mean</th>\n",
       "      <td>29.517619</td>\n",
       "      <td>8.212999e+05</td>\n",
       "      <td>4.657009</td>\n",
       "      <td>0.271731</td>\n",
       "      <td>0.0</td>\n",
       "    </tr>\n",
       "    <tr>\n",
       "      <th>std</th>\n",
       "      <td>2.644396</td>\n",
       "      <td>3.288989e+05</td>\n",
       "      <td>1.562634</td>\n",
       "      <td>0.445026</td>\n",
       "      <td>0.0</td>\n",
       "    </tr>\n",
       "    <tr>\n",
       "      <th>min</th>\n",
       "      <td>25.000000</td>\n",
       "      <td>3.000000e+05</td>\n",
       "      <td>2.000000</td>\n",
       "      <td>0.000000</td>\n",
       "      <td>0.0</td>\n",
       "    </tr>\n",
       "    <tr>\n",
       "      <th>25%</th>\n",
       "      <td>28.000000</td>\n",
       "      <td>5.500000e+05</td>\n",
       "      <td>4.000000</td>\n",
       "      <td>0.000000</td>\n",
       "      <td>0.0</td>\n",
       "    </tr>\n",
       "    <tr>\n",
       "      <th>50%</th>\n",
       "      <td>29.000000</td>\n",
       "      <td>8.000000e+05</td>\n",
       "      <td>4.000000</td>\n",
       "      <td>0.000000</td>\n",
       "      <td>0.0</td>\n",
       "    </tr>\n",
       "    <tr>\n",
       "      <th>75%</th>\n",
       "      <td>31.000000</td>\n",
       "      <td>1.100000e+06</td>\n",
       "      <td>6.000000</td>\n",
       "      <td>1.000000</td>\n",
       "      <td>0.0</td>\n",
       "    </tr>\n",
       "    <tr>\n",
       "      <th>max</th>\n",
       "      <td>35.000000</td>\n",
       "      <td>1.750000e+06</td>\n",
       "      <td>9.000000</td>\n",
       "      <td>1.000000</td>\n",
       "      <td>0.0</td>\n",
       "    </tr>\n",
       "  </tbody>\n",
       "</table>\n",
       "</div>"
      ],
      "text/plain": [
       "               Age  AnnualIncome  FamilyMembers  ChronicDiseases  \\\n",
       "count  1277.000000  1.277000e+03    1277.000000      1277.000000   \n",
       "mean     29.517619  8.212999e+05       4.657009         0.271731   \n",
       "std       2.644396  3.288989e+05       1.562634         0.445026   \n",
       "min      25.000000  3.000000e+05       2.000000         0.000000   \n",
       "25%      28.000000  5.500000e+05       4.000000         0.000000   \n",
       "50%      29.000000  8.000000e+05       4.000000         0.000000   \n",
       "75%      31.000000  1.100000e+06       6.000000         1.000000   \n",
       "max      35.000000  1.750000e+06       9.000000         1.000000   \n",
       "\n",
       "       TravelInsurance  \n",
       "count           1277.0  \n",
       "mean               0.0  \n",
       "std                0.0  \n",
       "min                0.0  \n",
       "25%                0.0  \n",
       "50%                0.0  \n",
       "75%                0.0  \n",
       "max                0.0  "
      ]
     },
     "execution_count": 15,
     "metadata": {},
     "output_type": "execute_result"
    }
   ],
   "source": [
    "# descriptive statistics\n",
    "non_cust.describe()"
   ]
  },
  {
   "cell_type": "markdown",
   "id": "3f975c06-daf0-4922-89c3-ed139dc175f7",
   "metadata": {},
   "source": [
    "35.7% of users buy travel insurance and 64.3% do not. The average customer and non-customer have similar ages and family members."
   ]
  },
  {
   "cell_type": "code",
   "execution_count": 16,
   "id": "40fac2dc-4958-4087-b341-e566834c722c",
   "metadata": {},
   "outputs": [
    {
     "data": {
      "image/png": "[encoded data removed]",
      "text/plain": [
       "<Figure size 432x288 with 1 Axes>"
      ]
     },
     "metadata": {},
     "output_type": "display_data"
    }
   ],
   "source": [
    "# define values\n",
    "data = [len(cust), len(non_cust)]\n",
    "labels = ['Customers', 'Non-Customers']\n",
    "colors = sns.color_palette('copper_r')\n",
    "\n",
    "# pie chart\n",
    "plt.pie(data, labels = labels, colors = colors, autopct='%.0f%%')\n",
    "plt.title ('Travel Insurance', size=20)\n",
    "plt.show()"
   ]
  },
  {
   "cell_type": "markdown",
   "id": "a87573ff-f440-434c-8411-e773fddb69ad",
   "metadata": {},
   "source": [
    "# Annual Income?"
   ]
  },
  {
   "cell_type": "code",
   "execution_count": 17,
   "id": "1f98cd3b-d5bc-476b-b6be-b9651e9d13be",
   "metadata": {},
   "outputs": [
    {
     "data": {
      "text/plain": [
       "1133239.4366197183"
      ]
     },
     "execution_count": 17,
     "metadata": {},
     "output_type": "execute_result"
    }
   ],
   "source": [
    "cust['AnnualIncome'].mean()"
   ]
  },
  {
   "cell_type": "code",
   "execution_count": 18,
   "id": "923adcb6-e2fa-4f08-a650-b3f0294a319d",
   "metadata": {},
   "outputs": [
    {
     "data": {
      "text/plain": [
       "821299.9216914644"
      ]
     },
     "execution_count": 18,
     "metadata": {},
     "output_type": "execute_result"
    }
   ],
   "source": [
    "non_cust['AnnualIncome'].mean()"
   ]
  },
  {
   "cell_type": "code",
   "execution_count": 19,
   "id": "d7aca054-e2d2-4969-8b6f-6636fa89f373",
   "metadata": {},
   "outputs": [
    {
     "data": {
      "text/plain": [
       "311939.51492825395"
      ]
     },
     "execution_count": 19,
     "metadata": {},
     "output_type": "execute_result"
    }
   ],
   "source": [
    "cust['AnnualIncome'].mean() - non_cust['AnnualIncome'].mean()"
   ]
  },
  {
   "cell_type": "code",
   "execution_count": 20,
   "id": "fb3ee256-999c-4b12-a142-268711022f7d",
   "metadata": {},
   "outputs": [
    {
     "data": {
      "text/plain": [
       "1250000.0"
      ]
     },
     "execution_count": 20,
     "metadata": {},
     "output_type": "execute_result"
    }
   ],
   "source": [
    "cust['AnnualIncome'].median()"
   ]
  },
  {
   "cell_type": "code",
   "execution_count": 21,
   "id": "25341200-41e2-494a-9509-1218705553e0",
   "metadata": {},
   "outputs": [
    {
     "data": {
      "text/plain": [
       "800000.0"
      ]
     },
     "execution_count": 21,
     "metadata": {},
     "output_type": "execute_result"
    }
   ],
   "source": [
    "non_cust['AnnualIncome'].median()"
   ]
  },
  {
   "cell_type": "markdown",
   "id": "95cf5ffe-65cd-434e-9763-a499074702e4",
   "metadata": {},
   "source": [
    "The average customer makes 1,133,239 - more than 1 million dollars! On the other hand, the average non-customer makes 821,299 - an impressive 6 digits, but 311,939 less than the average customer."
   ]
  },
  {
   "cell_type": "markdown",
   "id": "2c86e63d-3a6e-4d0f-ba4a-cc114bf982db",
   "metadata": {},
   "source": [
    "# Ever Travelled Abroad?"
   ]
  },
  {
   "cell_type": "code",
   "execution_count": 22,
   "id": "b613e09c-48d7-4934-b275-f506f9eeaa0a",
   "metadata": {},
   "outputs": [
    {
     "data": {
      "text/plain": [
       "No     412\n",
       "Yes    298\n",
       "Name: EverTravelledAbroad, dtype: int64"
      ]
     },
     "execution_count": 22,
     "metadata": {},
     "output_type": "execute_result"
    }
   ],
   "source": [
    "cust['EverTravelledAbroad'].value_counts()"
   ]
  },
  {
   "cell_type": "code",
   "execution_count": 23,
   "id": "5daa925c-5588-4a31-9309-477c1821247e",
   "metadata": {},
   "outputs": [
    {
     "data": {
      "text/plain": [
       "No     1195\n",
       "Yes      82\n",
       "Name: EverTravelledAbroad, dtype: int64"
      ]
     },
     "execution_count": 23,
     "metadata": {},
     "output_type": "execute_result"
    }
   ],
   "source": [
    "non_cust['EverTravelledAbroad'].value_counts()"
   ]
  },
  {
   "cell_type": "code",
   "execution_count": 24,
   "id": "abd89898-c605-4446-a9ed-d25f34cc9d6a",
   "metadata": {},
   "outputs": [
    {
     "data": {
      "text/plain": [
       "0.4197183098591549"
      ]
     },
     "execution_count": 24,
     "metadata": {},
     "output_type": "execute_result"
    }
   ],
   "source": [
    "cust[cust.EverTravelledAbroad == 'Yes'].shape[0]/len(cust)"
   ]
  },
  {
   "cell_type": "code",
   "execution_count": 25,
   "id": "15afc2c7-ac37-4c6c-9c04-29baf6d5ff88",
   "metadata": {},
   "outputs": [
    {
     "data": {
      "text/plain": [
       "0.5802816901408451"
      ]
     },
     "execution_count": 25,
     "metadata": {},
     "output_type": "execute_result"
    }
   ],
   "source": [
    "cust[cust.EverTravelledAbroad == 'No'].shape[0]/len(cust)"
   ]
  },
  {
   "cell_type": "code",
   "execution_count": 26,
   "id": "bb038ee4-810a-4599-8ef8-4ad5d4bdaaa7",
   "metadata": {},
   "outputs": [
    {
     "data": {
      "text/plain": [
       "0.06421299921691465"
      ]
     },
     "execution_count": 26,
     "metadata": {},
     "output_type": "execute_result"
    }
   ],
   "source": [
    "non_cust[non_cust.EverTravelledAbroad == 'Yes'].shape[0]/len(non_cust)"
   ]
  },
  {
   "cell_type": "code",
   "execution_count": 27,
   "id": "ef543df5-2fc5-47c4-9053-e4d28e875b2d",
   "metadata": {},
   "outputs": [
    {
     "data": {
      "text/plain": [
       "0.9357870007830854"
      ]
     },
     "execution_count": 27,
     "metadata": {},
     "output_type": "execute_result"
    }
   ],
   "source": [
    "non_cust[non_cust.EverTravelledAbroad == 'No'].shape[0]/len(non_cust)"
   ]
  },
  {
   "cell_type": "markdown",
   "id": "7ee5cb25-78da-4602-8eb8-db2134024204",
   "metadata": {},
   "source": [
    "Customers are more likely to have travelled abroad than non-customers: 42% of customers travelled abroad versus 6.4% of non-customers travelled abroad. This is not surprising as customers make more money than non-customers and can afford to travel internationally. Furthermore, international travel can be stressful and travel insurance can help alleviate that stress."
   ]
  },
  {
   "cell_type": "markdown",
   "id": "1489c0c9-1a05-4174-915b-8444cdba4965",
   "metadata": {},
   "source": [
    "# College Graduate?"
   ]
  },
  {
   "cell_type": "code",
   "execution_count": 28,
   "id": "4655518b-b862-4078-8347-b0dc477d35ed",
   "metadata": {},
   "outputs": [
    {
     "data": {
      "text/plain": [
       "Yes    611\n",
       "No      99\n",
       "Name: GraduateOrNot, dtype: int64"
      ]
     },
     "execution_count": 28,
     "metadata": {},
     "output_type": "execute_result"
    }
   ],
   "source": [
    "cust['GraduateOrNot'].value_counts()"
   ]
  },
  {
   "cell_type": "code",
   "execution_count": 29,
   "id": "b8bc890b-1a58-41ea-bae7-ddccc2fe61f1",
   "metadata": {},
   "outputs": [
    {
     "data": {
      "text/plain": [
       "Yes    1081\n",
       "No      196\n",
       "Name: GraduateOrNot, dtype: int64"
      ]
     },
     "execution_count": 29,
     "metadata": {},
     "output_type": "execute_result"
    }
   ],
   "source": [
    "non_cust['GraduateOrNot'].value_counts()"
   ]
  },
  {
   "cell_type": "code",
   "execution_count": 30,
   "id": "d3e97394-df17-4810-b1c5-edee59292c26",
   "metadata": {},
   "outputs": [
    {
     "data": {
      "text/plain": [
       "0.8605633802816901"
      ]
     },
     "execution_count": 30,
     "metadata": {},
     "output_type": "execute_result"
    }
   ],
   "source": [
    "cust[cust.GraduateOrNot== 'Yes'].shape[0]/len(cust)"
   ]
  },
  {
   "cell_type": "code",
   "execution_count": 31,
   "id": "58b87091-d275-41b3-b148-aa43bea3e377",
   "metadata": {},
   "outputs": [
    {
     "data": {
      "text/plain": [
       "0.13943661971830987"
      ]
     },
     "execution_count": 31,
     "metadata": {},
     "output_type": "execute_result"
    }
   ],
   "source": [
    "cust[cust.GraduateOrNot== 'No'].shape[0]/len(cust)"
   ]
  },
  {
   "cell_type": "code",
   "execution_count": 32,
   "id": "ea59bb12-c856-485d-ba0b-b3d92cc1ac5c",
   "metadata": {},
   "outputs": [
    {
     "data": {
      "text/plain": [
       "0.8465152701644479"
      ]
     },
     "execution_count": 32,
     "metadata": {},
     "output_type": "execute_result"
    }
   ],
   "source": [
    "non_cust[non_cust.GraduateOrNot== 'Yes'].shape[0]/len(non_cust)"
   ]
  },
  {
   "cell_type": "code",
   "execution_count": 33,
   "id": "770bd449-976a-4286-aff5-95b048b73f3a",
   "metadata": {},
   "outputs": [
    {
     "data": {
      "text/plain": [
       "0.1534847298355521"
      ]
     },
     "execution_count": 33,
     "metadata": {},
     "output_type": "execute_result"
    }
   ],
   "source": [
    "non_cust[non_cust.GraduateOrNot== 'No'].shape[0]/len(non_cust)"
   ]
  },
  {
   "cell_type": "code",
   "execution_count": 34,
   "id": "a3e81a8d-6853-4eca-9c25-864a3b94b06e",
   "metadata": {},
   "outputs": [
    {
     "data": {
      "text/plain": [
       "0.014048110117242163"
      ]
     },
     "execution_count": 34,
     "metadata": {},
     "output_type": "execute_result"
    }
   ],
   "source": [
    "cust[cust.GraduateOrNot== 'Yes'].shape[0]/len(cust) - non_cust[non_cust.GraduateOrNot== 'Yes'].shape[0]/len(non_cust)"
   ]
  },
  {
   "cell_type": "markdown",
   "id": "8e91b9eb-357c-4d62-be58-9869029b5698",
   "metadata": {},
   "source": [
    "Customers have a slightly higher likelihood (1.4%) to be a college graduate. Is this statistically significant?"
   ]
  },
  {
   "cell_type": "markdown",
   "id": "af5a8897-8bb9-4b2e-8000-82b3cfdbcf08",
   "metadata": {},
   "source": [
    "# Employment Type?"
   ]
  },
  {
   "cell_type": "code",
   "execution_count": 35,
   "id": "24bc9107-8310-4b7a-ae88-da8ab79b0f61",
   "metadata": {},
   "outputs": [
    {
     "data": {
      "text/plain": [
       "Private Sector/Self Employed    570\n",
       "Government Sector               140\n",
       "Name: Employment Type, dtype: int64"
      ]
     },
     "execution_count": 35,
     "metadata": {},
     "output_type": "execute_result"
    }
   ],
   "source": [
    "cust['Employment Type'].value_counts()"
   ]
  },
  {
   "cell_type": "code",
   "execution_count": 36,
   "id": "755bfc05-e25d-46a7-86a5-9da06a3c2289",
   "metadata": {},
   "outputs": [
    {
     "data": {
      "text/plain": [
       "Private Sector/Self Employed    847\n",
       "Government Sector               430\n",
       "Name: Employment Type, dtype: int64"
      ]
     },
     "execution_count": 36,
     "metadata": {},
     "output_type": "execute_result"
    }
   ],
   "source": [
    "non_cust['Employment Type'].value_counts()"
   ]
  },
  {
   "cell_type": "code",
   "execution_count": 37,
   "id": "d5fc0351-582c-4cc4-8e37-3fbd6bec2e3d",
   "metadata": {},
   "outputs": [
    {
     "data": {
      "text/plain": [
       "0.8028169014084507"
      ]
     },
     "execution_count": 37,
     "metadata": {},
     "output_type": "execute_result"
    }
   ],
   "source": [
    "cust[cust['Employment Type']== 'Private Sector/Self Employed'].shape[0]/len(cust)"
   ]
  },
  {
   "cell_type": "code",
   "execution_count": 38,
   "id": "2fa93eab-9048-4a11-8674-1a4ac85f86b9",
   "metadata": {},
   "outputs": [
    {
     "data": {
      "text/plain": [
       "0.19718309859154928"
      ]
     },
     "execution_count": 38,
     "metadata": {},
     "output_type": "execute_result"
    }
   ],
   "source": [
    "cust[cust['Employment Type']== 'Government Sector'].shape[0]/len(cust)"
   ]
  },
  {
   "cell_type": "code",
   "execution_count": 39,
   "id": "02f86035-21e2-46d1-8fb6-f820f19bc667",
   "metadata": {},
   "outputs": [
    {
     "data": {
      "text/plain": [
       "0.66327329678935"
      ]
     },
     "execution_count": 39,
     "metadata": {},
     "output_type": "execute_result"
    }
   ],
   "source": [
    "non_cust[non_cust['Employment Type']== 'Private Sector/Self Employed'].shape[0]/len(non_cust)"
   ]
  },
  {
   "cell_type": "code",
   "execution_count": 40,
   "id": "246910f2-2c17-4f42-8c76-a6e0cdfae26b",
   "metadata": {},
   "outputs": [
    {
     "data": {
      "text/plain": [
       "0.33672670321064996"
      ]
     },
     "execution_count": 40,
     "metadata": {},
     "output_type": "execute_result"
    }
   ],
   "source": [
    "non_cust[non_cust['Employment Type']== 'Government Sector'].shape[0]/len(non_cust)"
   ]
  },
  {
   "cell_type": "markdown",
   "id": "79ef9e7c-690a-451d-844a-87d4b96becda",
   "metadata": {},
   "source": [
    "Customers are more likely to be employed in the private sector/self-employed than our non-customers. Meanwhile, our non-customers are more likely to be employed in the government sector than in the private sector/self-employed. Due to the pay gap between the public and private sectors, this finding is in line with the income differences between customers and non-customers."
   ]
  },
  {
   "cell_type": "markdown",
   "id": "4b0854e5-aece-4e45-b75a-804d9154276b",
   "metadata": {},
   "source": [
    "# Chronic Diseases?"
   ]
  },
  {
   "cell_type": "code",
   "execution_count": 41,
   "id": "8751d99a-4ceb-4d16-8e2b-c734acf803c0",
   "metadata": {},
   "outputs": [
    {
     "data": {
      "text/plain": [
       "0    505\n",
       "1    205\n",
       "Name: ChronicDiseases, dtype: int64"
      ]
     },
     "execution_count": 41,
     "metadata": {},
     "output_type": "execute_result"
    }
   ],
   "source": [
    "cust['ChronicDiseases'].value_counts()"
   ]
  },
  {
   "cell_type": "code",
   "execution_count": 42,
   "id": "7b7b0557-a3bd-48ad-9771-9c9b54d1014a",
   "metadata": {},
   "outputs": [
    {
     "data": {
      "text/plain": [
       "0    930\n",
       "1    347\n",
       "Name: ChronicDiseases, dtype: int64"
      ]
     },
     "execution_count": 42,
     "metadata": {},
     "output_type": "execute_result"
    }
   ],
   "source": [
    "non_cust['ChronicDiseases'].value_counts()"
   ]
  },
  {
   "cell_type": "code",
   "execution_count": 43,
   "id": "13f8c91e-1c2f-41ee-a19a-9dd4fa81d2df",
   "metadata": {},
   "outputs": [
    {
     "data": {
      "text/plain": [
       "0.2887323943661972"
      ]
     },
     "execution_count": 43,
     "metadata": {},
     "output_type": "execute_result"
    }
   ],
   "source": [
    "cust[cust['ChronicDiseases']== 1].shape[0]/len(cust)"
   ]
  },
  {
   "cell_type": "code",
   "execution_count": 44,
   "id": "c66d888f-4d17-438c-a345-3f65f6964da8",
   "metadata": {},
   "outputs": [
    {
     "data": {
      "text/plain": [
       "0.7112676056338029"
      ]
     },
     "execution_count": 44,
     "metadata": {},
     "output_type": "execute_result"
    }
   ],
   "source": [
    "cust[cust['ChronicDiseases']== 0].shape[0]/len(cust)"
   ]
  },
  {
   "cell_type": "code",
   "execution_count": 45,
   "id": "73122756-2d9e-4ba5-95ae-c4f1f4f8c78c",
   "metadata": {},
   "outputs": [
    {
     "data": {
      "text/plain": [
       "0.2717306186374315"
      ]
     },
     "execution_count": 45,
     "metadata": {},
     "output_type": "execute_result"
    }
   ],
   "source": [
    "non_cust[non_cust['ChronicDiseases']== 1].shape[0]/len(non_cust)"
   ]
  },
  {
   "cell_type": "code",
   "execution_count": 46,
   "id": "d0c98ac2-86ec-4e3b-8c98-b579d48d652a",
   "metadata": {},
   "outputs": [
    {
     "data": {
      "text/plain": [
       "0.7282693813625685"
      ]
     },
     "execution_count": 46,
     "metadata": {},
     "output_type": "execute_result"
    }
   ],
   "source": [
    "non_cust[non_cust['ChronicDiseases']== 0].shape[0]/len(non_cust)"
   ]
  },
  {
   "cell_type": "code",
   "execution_count": 47,
   "id": "c93655d1-5217-4004-9d52-2e02b3c0a1da",
   "metadata": {},
   "outputs": [
    {
     "data": {
      "text/plain": [
       "0.01700177572876571"
      ]
     },
     "execution_count": 47,
     "metadata": {},
     "output_type": "execute_result"
    }
   ],
   "source": [
    "cust[cust['ChronicDiseases']== 1].shape[0]/len(cust) - non_cust[non_cust['ChronicDiseases']== 1].shape[0]/len(non_cust)"
   ]
  },
  {
   "cell_type": "markdown",
   "id": "20e502d9-381d-4627-a5b2-cec2f3a2ddd7",
   "metadata": {},
   "source": [
    "Customers have a slightly higher likelihood (1.7%) to have a chronic condition. Is this statistically significant?"
   ]
  },
  {
   "cell_type": "markdown",
   "id": "70c9af97-e5a0-4b94-80a3-0584b4b3c6c2",
   "metadata": {},
   "source": [
    "# Frequent Flyer?"
   ]
  },
  {
   "cell_type": "code",
   "execution_count": 48,
   "id": "055aece8-33e6-4312-8ace-5a2cc911202b",
   "metadata": {},
   "outputs": [
    {
     "data": {
      "text/plain": [
       "No     471\n",
       "Yes    239\n",
       "Name: FrequentFlyer, dtype: int64"
      ]
     },
     "execution_count": 48,
     "metadata": {},
     "output_type": "execute_result"
    }
   ],
   "source": [
    "cust['FrequentFlyer'].value_counts()"
   ]
  },
  {
   "cell_type": "code",
   "execution_count": 49,
   "id": "1698ae68-b6cb-466d-a14d-668fec6d8d11",
   "metadata": {},
   "outputs": [
    {
     "data": {
      "text/plain": [
       "No     1099\n",
       "Yes     178\n",
       "Name: FrequentFlyer, dtype: int64"
      ]
     },
     "execution_count": 49,
     "metadata": {},
     "output_type": "execute_result"
    }
   ],
   "source": [
    "non_cust['FrequentFlyer'].value_counts()"
   ]
  },
  {
   "cell_type": "code",
   "execution_count": 50,
   "id": "3f1f6361-e289-4743-beb0-f0448a66a026",
   "metadata": {},
   "outputs": [
    {
     "data": {
      "text/plain": [
       "0.33661971830985915"
      ]
     },
     "execution_count": 50,
     "metadata": {},
     "output_type": "execute_result"
    }
   ],
   "source": [
    "cust[cust['FrequentFlyer']== 'Yes'].shape[0]/len(cust)"
   ]
  },
  {
   "cell_type": "code",
   "execution_count": 51,
   "id": "8b82aa45-536f-46f4-b0e7-ec8681708f94",
   "metadata": {},
   "outputs": [
    {
     "data": {
      "text/plain": [
       "0.6633802816901408"
      ]
     },
     "execution_count": 51,
     "metadata": {},
     "output_type": "execute_result"
    }
   ],
   "source": [
    "cust[cust['FrequentFlyer']== 'No'].shape[0]/len(cust)"
   ]
  },
  {
   "cell_type": "code",
   "execution_count": 52,
   "id": "5b9f0ad3-95da-4c49-95f0-d19de0deb6d5",
   "metadata": {},
   "outputs": [
    {
     "data": {
      "text/plain": [
       "0.139389193422083"
      ]
     },
     "execution_count": 52,
     "metadata": {},
     "output_type": "execute_result"
    }
   ],
   "source": [
    "non_cust[non_cust['FrequentFlyer']== 'Yes'].shape[0]/len(non_cust)"
   ]
  },
  {
   "cell_type": "code",
   "execution_count": 53,
   "id": "96d13be6-7199-454c-a632-2c0b71728647",
   "metadata": {},
   "outputs": [
    {
     "data": {
      "text/plain": [
       "0.860610806577917"
      ]
     },
     "execution_count": 53,
     "metadata": {},
     "output_type": "execute_result"
    }
   ],
   "source": [
    "non_cust[non_cust['FrequentFlyer']== 'No'].shape[0]/len(non_cust)"
   ]
  },
  {
   "cell_type": "markdown",
   "id": "6147696c-ee04-4a59-a2b3-6088274c12aa",
   "metadata": {},
   "source": [
    "Frequent flyers are more likely to purchase travel insurance than non-frequent flyers: 33.7% of frequent flyers purchased insurance versus 14% of non-frequent flyers purchased insurance. Frequent flyers are more familiar with the risks and financial losses that could happen while traveling and therefore, preemptively purchase travel insurance."
   ]
  },
  {
   "cell_type": "markdown",
   "id": "5e7ddc6d-a8e6-4b26-b91c-188149d9cab6",
   "metadata": {},
   "source": [
    "# Visualizations"
   ]
  },
  {
   "cell_type": "code",
   "execution_count": 54,
   "id": "6c546df5-8097-4aee-95cc-b2050dbc815b",
   "metadata": {},
   "outputs": [],
   "source": [
    "# establish grid\n",
    "sns.set(rc={'figure.figsize': (12,6)})\n",
    "sns.set_style('whitegrid')\n",
    "sns.set_context('notebook')"
   ]
  },
  {
   "cell_type": "code",
   "execution_count": 55,
   "id": "0f8ae912-9889-4122-83ab-775402ac458f",
   "metadata": {},
   "outputs": [
    {
     "data": {
      "text/html": [
       "<div>\n",
       "<style scoped>\n",
       "    .dataframe tbody tr th:only-of-type {\n",
       "        vertical-align: middle;\n",
       "    }\n",
       "\n",
       "    .dataframe tbody tr th {\n",
       "        vertical-align: top;\n",
       "    }\n",
       "\n",
       "    .dataframe thead th {\n",
       "        text-align: right;\n",
       "    }\n",
       "</style>\n",
       "<table border=\"1\" class=\"dataframe\">\n",
       "  <thead>\n",
       "    <tr style=\"text-align: right;\">\n",
       "      <th>AnnualIncome</th>\n",
       "      <th>300000</th>\n",
       "      <th>350000</th>\n",
       "      <th>400000</th>\n",
       "      <th>450000</th>\n",
       "      <th>500000</th>\n",
       "      <th>550000</th>\n",
       "      <th>600000</th>\n",
       "      <th>650000</th>\n",
       "      <th>700000</th>\n",
       "      <th>750000</th>\n",
       "      <th>...</th>\n",
       "      <th>1300000</th>\n",
       "      <th>1350000</th>\n",
       "      <th>1400000</th>\n",
       "      <th>1450000</th>\n",
       "      <th>1500000</th>\n",
       "      <th>1550000</th>\n",
       "      <th>1650000</th>\n",
       "      <th>1700000</th>\n",
       "      <th>1750000</th>\n",
       "      <th>1800000</th>\n",
       "    </tr>\n",
       "    <tr>\n",
       "      <th>Employment Type</th>\n",
       "      <th></th>\n",
       "      <th></th>\n",
       "      <th></th>\n",
       "      <th></th>\n",
       "      <th></th>\n",
       "      <th></th>\n",
       "      <th></th>\n",
       "      <th></th>\n",
       "      <th></th>\n",
       "      <th></th>\n",
       "      <th></th>\n",
       "      <th></th>\n",
       "      <th></th>\n",
       "      <th></th>\n",
       "      <th></th>\n",
       "      <th></th>\n",
       "      <th></th>\n",
       "      <th></th>\n",
       "      <th></th>\n",
       "      <th></th>\n",
       "      <th></th>\n",
       "    </tr>\n",
       "  </thead>\n",
       "  <tbody>\n",
       "    <tr>\n",
       "      <th>Government Sector</th>\n",
       "      <td>0.068182</td>\n",
       "      <td>0.058824</td>\n",
       "      <td>0.153846</td>\n",
       "      <td>NaN</td>\n",
       "      <td>0.162791</td>\n",
       "      <td>0.666667</td>\n",
       "      <td>0.200000</td>\n",
       "      <td>0.571429</td>\n",
       "      <td>0.454545</td>\n",
       "      <td>0.190476</td>\n",
       "      <td>...</td>\n",
       "      <td>0.435897</td>\n",
       "      <td>NaN</td>\n",
       "      <td>NaN</td>\n",
       "      <td>1.0</td>\n",
       "      <td>0.888889</td>\n",
       "      <td>NaN</td>\n",
       "      <td>NaN</td>\n",
       "      <td>NaN</td>\n",
       "      <td>0.250000</td>\n",
       "      <td>NaN</td>\n",
       "    </tr>\n",
       "    <tr>\n",
       "      <th>Private Sector/Self Employed</th>\n",
       "      <td>NaN</td>\n",
       "      <td>0.095238</td>\n",
       "      <td>NaN</td>\n",
       "      <td>0.333333</td>\n",
       "      <td>0.280000</td>\n",
       "      <td>0.269231</td>\n",
       "      <td>0.190476</td>\n",
       "      <td>0.187500</td>\n",
       "      <td>0.297619</td>\n",
       "      <td>0.204545</td>\n",
       "      <td>...</td>\n",
       "      <td>0.346154</td>\n",
       "      <td>0.953488</td>\n",
       "      <td>0.915385</td>\n",
       "      <td>1.0</td>\n",
       "      <td>0.972603</td>\n",
       "      <td>1.0</td>\n",
       "      <td>1.0</td>\n",
       "      <td>0.891892</td>\n",
       "      <td>0.272727</td>\n",
       "      <td>1.0</td>\n",
       "    </tr>\n",
       "  </tbody>\n",
       "</table>\n",
       "<p>2 rows × 30 columns</p>\n",
       "</div>"
      ],
      "text/plain": [
       "AnnualIncome                   300000    350000    400000    450000   \\\n",
       "Employment Type                                                        \n",
       "Government Sector             0.068182  0.058824  0.153846       NaN   \n",
       "Private Sector/Self Employed       NaN  0.095238       NaN  0.333333   \n",
       "\n",
       "AnnualIncome                   500000    550000    600000    650000   \\\n",
       "Employment Type                                                        \n",
       "Government Sector             0.162791  0.666667  0.200000  0.571429   \n",
       "Private Sector/Self Employed  0.280000  0.269231  0.190476  0.187500   \n",
       "\n",
       "AnnualIncome                   700000    750000   ...   1300000   1350000  \\\n",
       "Employment Type                                   ...                       \n",
       "Government Sector             0.454545  0.190476  ...  0.435897       NaN   \n",
       "Private Sector/Self Employed  0.297619  0.204545  ...  0.346154  0.953488   \n",
       "\n",
       "AnnualIncome                   1400000  1450000   1500000  1550000  1650000  \\\n",
       "Employment Type                                                               \n",
       "Government Sector                  NaN      1.0  0.888889      NaN      NaN   \n",
       "Private Sector/Self Employed  0.915385      1.0  0.972603      1.0      1.0   \n",
       "\n",
       "AnnualIncome                   1700000   1750000  1800000  \n",
       "Employment Type                                            \n",
       "Government Sector                  NaN  0.250000      NaN  \n",
       "Private Sector/Self Employed  0.891892  0.272727      1.0  \n",
       "\n",
       "[2 rows x 30 columns]"
      ]
     },
     "execution_count": 55,
     "metadata": {},
     "output_type": "execute_result"
    }
   ],
   "source": [
    "# what is the relationship between employment type, income, and purchase of travel insurance? \n",
    "df_heat=df.pivot_table(index='Employment Type', columns='AnnualIncome', values='TravelInsurance', aggfunc=np.mean)\n",
    "df_heat"
   ]
  },
  {
   "cell_type": "code",
   "execution_count": 56,
   "id": "30987548-d4c8-484e-917b-dd16a20cc60a",
   "metadata": {},
   "outputs": [
    {
     "data": {
      "image/png": "[encoded data removed]",
      "text/plain": [
       "<Figure size 864x432 with 2 Axes>"
      ]
     },
     "metadata": {},
     "output_type": "display_data"
    }
   ],
   "source": [
    "# heat map\n",
    "sns.color_palette(\"copper_r\", as_cmap=True)\n",
    "sns.heatmap(df_heat, cmap=\"copper_r\")\n",
    "plt.title('Likelihood of Purchasing Travel Insurance', size=20)\n",
    "plt.ylabel('Employment Type', size=14)\n",
    "plt.xlabel('Annual Income', size=14)\n",
    "plt.show()"
   ]
  },
  {
   "cell_type": "code",
   "execution_count": 57,
   "id": "ed965795-3575-4f76-9bed-5b3a0a5e2a8c",
   "metadata": {},
   "outputs": [
    {
     "data": {
      "text/html": [
       "<div>\n",
       "<style scoped>\n",
       "    .dataframe tbody tr th:only-of-type {\n",
       "        vertical-align: middle;\n",
       "    }\n",
       "\n",
       "    .dataframe tbody tr th {\n",
       "        vertical-align: top;\n",
       "    }\n",
       "\n",
       "    .dataframe thead th {\n",
       "        text-align: right;\n",
       "    }\n",
       "</style>\n",
       "<table border=\"1\" class=\"dataframe\">\n",
       "  <thead>\n",
       "    <tr style=\"text-align: right;\">\n",
       "      <th>FamilyMembers</th>\n",
       "      <th>2</th>\n",
       "      <th>3</th>\n",
       "      <th>4</th>\n",
       "      <th>5</th>\n",
       "      <th>6</th>\n",
       "      <th>7</th>\n",
       "      <th>8</th>\n",
       "      <th>9</th>\n",
       "    </tr>\n",
       "    <tr>\n",
       "      <th>Age</th>\n",
       "      <th></th>\n",
       "      <th></th>\n",
       "      <th></th>\n",
       "      <th></th>\n",
       "      <th></th>\n",
       "      <th></th>\n",
       "      <th></th>\n",
       "      <th></th>\n",
       "    </tr>\n",
       "  </thead>\n",
       "  <tbody>\n",
       "    <tr>\n",
       "      <th>25</th>\n",
       "      <td>0.666667</td>\n",
       "      <td>0.583333</td>\n",
       "      <td>0.628571</td>\n",
       "      <td>0.567568</td>\n",
       "      <td>0.850000</td>\n",
       "      <td>0.714286</td>\n",
       "      <td>0.250000</td>\n",
       "      <td>1.000000</td>\n",
       "    </tr>\n",
       "    <tr>\n",
       "      <th>26</th>\n",
       "      <td>0.500000</td>\n",
       "      <td>0.433333</td>\n",
       "      <td>0.513514</td>\n",
       "      <td>0.647059</td>\n",
       "      <td>0.360000</td>\n",
       "      <td>0.500000</td>\n",
       "      <td>0.000000</td>\n",
       "      <td>0.750000</td>\n",
       "    </tr>\n",
       "    <tr>\n",
       "      <th>27</th>\n",
       "      <td>0.300000</td>\n",
       "      <td>0.260870</td>\n",
       "      <td>0.281250</td>\n",
       "      <td>0.096774</td>\n",
       "      <td>0.250000</td>\n",
       "      <td>0.133333</td>\n",
       "      <td>0.000000</td>\n",
       "      <td>NaN</td>\n",
       "    </tr>\n",
       "    <tr>\n",
       "      <th>28</th>\n",
       "      <td>0.360000</td>\n",
       "      <td>0.222222</td>\n",
       "      <td>0.204082</td>\n",
       "      <td>0.184466</td>\n",
       "      <td>0.162500</td>\n",
       "      <td>0.205128</td>\n",
       "      <td>0.062500</td>\n",
       "      <td>0.466667</td>\n",
       "    </tr>\n",
       "    <tr>\n",
       "      <th>29</th>\n",
       "      <td>0.000000</td>\n",
       "      <td>0.333333</td>\n",
       "      <td>0.274510</td>\n",
       "      <td>0.210526</td>\n",
       "      <td>0.166667</td>\n",
       "      <td>0.333333</td>\n",
       "      <td>0.375000</td>\n",
       "      <td>0.222222</td>\n",
       "    </tr>\n",
       "    <tr>\n",
       "      <th>30</th>\n",
       "      <td>0.500000</td>\n",
       "      <td>0.368421</td>\n",
       "      <td>0.416667</td>\n",
       "      <td>0.636364</td>\n",
       "      <td>0.444444</td>\n",
       "      <td>0.428571</td>\n",
       "      <td>0.000000</td>\n",
       "      <td>0.500000</td>\n",
       "    </tr>\n",
       "    <tr>\n",
       "      <th>31</th>\n",
       "      <td>0.363636</td>\n",
       "      <td>0.385965</td>\n",
       "      <td>0.288462</td>\n",
       "      <td>0.279070</td>\n",
       "      <td>0.358974</td>\n",
       "      <td>0.250000</td>\n",
       "      <td>0.333333</td>\n",
       "      <td>0.166667</td>\n",
       "    </tr>\n",
       "    <tr>\n",
       "      <th>32</th>\n",
       "      <td>0.000000</td>\n",
       "      <td>0.333333</td>\n",
       "      <td>0.062500</td>\n",
       "      <td>0.150000</td>\n",
       "      <td>0.166667</td>\n",
       "      <td>0.400000</td>\n",
       "      <td>NaN</td>\n",
       "      <td>0.400000</td>\n",
       "    </tr>\n",
       "    <tr>\n",
       "      <th>33</th>\n",
       "      <td>0.111111</td>\n",
       "      <td>0.565217</td>\n",
       "      <td>0.317073</td>\n",
       "      <td>0.424242</td>\n",
       "      <td>0.875000</td>\n",
       "      <td>1.000000</td>\n",
       "      <td>0.800000</td>\n",
       "      <td>0.800000</td>\n",
       "    </tr>\n",
       "    <tr>\n",
       "      <th>34</th>\n",
       "      <td>0.230769</td>\n",
       "      <td>0.272727</td>\n",
       "      <td>0.411765</td>\n",
       "      <td>0.312500</td>\n",
       "      <td>0.928571</td>\n",
       "      <td>0.916667</td>\n",
       "      <td>1.000000</td>\n",
       "      <td>0.666667</td>\n",
       "    </tr>\n",
       "    <tr>\n",
       "      <th>35</th>\n",
       "      <td>0.000000</td>\n",
       "      <td>0.500000</td>\n",
       "      <td>0.285714</td>\n",
       "      <td>0.166667</td>\n",
       "      <td>0.818182</td>\n",
       "      <td>1.000000</td>\n",
       "      <td>1.000000</td>\n",
       "      <td>0.500000</td>\n",
       "    </tr>\n",
       "  </tbody>\n",
       "</table>\n",
       "</div>"
      ],
      "text/plain": [
       "FamilyMembers         2         3         4         5         6         7  \\\n",
       "Age                                                                         \n",
       "25             0.666667  0.583333  0.628571  0.567568  0.850000  0.714286   \n",
       "26             0.500000  0.433333  0.513514  0.647059  0.360000  0.500000   \n",
       "27             0.300000  0.260870  0.281250  0.096774  0.250000  0.133333   \n",
       "28             0.360000  0.222222  0.204082  0.184466  0.162500  0.205128   \n",
       "29             0.000000  0.333333  0.274510  0.210526  0.166667  0.333333   \n",
       "30             0.500000  0.368421  0.416667  0.636364  0.444444  0.428571   \n",
       "31             0.363636  0.385965  0.288462  0.279070  0.358974  0.250000   \n",
       "32             0.000000  0.333333  0.062500  0.150000  0.166667  0.400000   \n",
       "33             0.111111  0.565217  0.317073  0.424242  0.875000  1.000000   \n",
       "34             0.230769  0.272727  0.411765  0.312500  0.928571  0.916667   \n",
       "35             0.000000  0.500000  0.285714  0.166667  0.818182  1.000000   \n",
       "\n",
       "FamilyMembers         8         9  \n",
       "Age                                \n",
       "25             0.250000  1.000000  \n",
       "26             0.000000  0.750000  \n",
       "27             0.000000       NaN  \n",
       "28             0.062500  0.466667  \n",
       "29             0.375000  0.222222  \n",
       "30             0.000000  0.500000  \n",
       "31             0.333333  0.166667  \n",
       "32                  NaN  0.400000  \n",
       "33             0.800000  0.800000  \n",
       "34             1.000000  0.666667  \n",
       "35             1.000000  0.500000  "
      ]
     },
     "execution_count": 57,
     "metadata": {},
     "output_type": "execute_result"
    }
   ],
   "source": [
    "# what is the relationship between age, family size, and purchase of travel insurance? \n",
    "df_heat=df.pivot_table(index='Age',columns='FamilyMembers', values='TravelInsurance', aggfunc=np.mean)\n",
    "df_heat"
   ]
  },
  {
   "cell_type": "code",
   "execution_count": 58,
   "id": "f8bfdb3a-502b-4e1e-8e6b-4982efb7a57c",
   "metadata": {},
   "outputs": [
    {
     "data": {
      "image/png": "[encoded data removed]",
      "text/plain": [
       "<Figure size 864x432 with 2 Axes>"
      ]
     },
     "metadata": {},
     "output_type": "display_data"
    }
   ],
   "source": [
    "# heat map\n",
    "sns.color_palette(\"copper_r\", as_cmap=True)\n",
    "sns.heatmap(df_heat, cmap=\"copper_r\")\n",
    "plt.title('Likelihood of Purchasing Travel Insurance', size=20)\n",
    "plt.ylabel('Age', size=14)\n",
    "plt.xlabel('Family Members', size=14)\n",
    "plt.show()"
   ]
  },
  {
   "cell_type": "code",
   "execution_count": 59,
   "id": "2cef8756-eccc-459e-a0b2-6f774ecbe2df",
   "metadata": {},
   "outputs": [
    {
     "data": {
      "text/html": [
       "<div>\n",
       "<style scoped>\n",
       "    .dataframe tbody tr th:only-of-type {\n",
       "        vertical-align: middle;\n",
       "    }\n",
       "\n",
       "    .dataframe tbody tr th {\n",
       "        vertical-align: top;\n",
       "    }\n",
       "\n",
       "    .dataframe thead th {\n",
       "        text-align: right;\n",
       "    }\n",
       "</style>\n",
       "<table border=\"1\" class=\"dataframe\">\n",
       "  <thead>\n",
       "    <tr style=\"text-align: right;\">\n",
       "      <th>AnnualIncome</th>\n",
       "      <th>300000</th>\n",
       "      <th>350000</th>\n",
       "      <th>400000</th>\n",
       "      <th>450000</th>\n",
       "      <th>500000</th>\n",
       "      <th>550000</th>\n",
       "      <th>600000</th>\n",
       "      <th>650000</th>\n",
       "      <th>700000</th>\n",
       "      <th>750000</th>\n",
       "      <th>...</th>\n",
       "      <th>1300000</th>\n",
       "      <th>1350000</th>\n",
       "      <th>1400000</th>\n",
       "      <th>1450000</th>\n",
       "      <th>1500000</th>\n",
       "      <th>1550000</th>\n",
       "      <th>1650000</th>\n",
       "      <th>1700000</th>\n",
       "      <th>1750000</th>\n",
       "      <th>1800000</th>\n",
       "    </tr>\n",
       "    <tr>\n",
       "      <th>Age</th>\n",
       "      <th></th>\n",
       "      <th></th>\n",
       "      <th></th>\n",
       "      <th></th>\n",
       "      <th></th>\n",
       "      <th></th>\n",
       "      <th></th>\n",
       "      <th></th>\n",
       "      <th></th>\n",
       "      <th></th>\n",
       "      <th></th>\n",
       "      <th></th>\n",
       "      <th></th>\n",
       "      <th></th>\n",
       "      <th></th>\n",
       "      <th></th>\n",
       "      <th></th>\n",
       "      <th></th>\n",
       "      <th></th>\n",
       "      <th></th>\n",
       "      <th></th>\n",
       "    </tr>\n",
       "  </thead>\n",
       "  <tbody>\n",
       "    <tr>\n",
       "      <th>25</th>\n",
       "      <td>NaN</td>\n",
       "      <td>NaN</td>\n",
       "      <td>NaN</td>\n",
       "      <td>NaN</td>\n",
       "      <td>0.250000</td>\n",
       "      <td>NaN</td>\n",
       "      <td>0.111111</td>\n",
       "      <td>NaN</td>\n",
       "      <td>NaN</td>\n",
       "      <td>0.363636</td>\n",
       "      <td>...</td>\n",
       "      <td>NaN</td>\n",
       "      <td>0.833333</td>\n",
       "      <td>0.944444</td>\n",
       "      <td>NaN</td>\n",
       "      <td>NaN</td>\n",
       "      <td>NaN</td>\n",
       "      <td>NaN</td>\n",
       "      <td>0.891892</td>\n",
       "      <td>1.000000</td>\n",
       "      <td>1.0</td>\n",
       "    </tr>\n",
       "    <tr>\n",
       "      <th>26</th>\n",
       "      <td>NaN</td>\n",
       "      <td>NaN</td>\n",
       "      <td>NaN</td>\n",
       "      <td>0.4</td>\n",
       "      <td>0.100000</td>\n",
       "      <td>0.666667</td>\n",
       "      <td>0.090909</td>\n",
       "      <td>NaN</td>\n",
       "      <td>NaN</td>\n",
       "      <td>0.000000</td>\n",
       "      <td>...</td>\n",
       "      <td>0.250000</td>\n",
       "      <td>NaN</td>\n",
       "      <td>0.972973</td>\n",
       "      <td>1.0</td>\n",
       "      <td>0.947368</td>\n",
       "      <td>NaN</td>\n",
       "      <td>NaN</td>\n",
       "      <td>NaN</td>\n",
       "      <td>0.000000</td>\n",
       "      <td>NaN</td>\n",
       "    </tr>\n",
       "    <tr>\n",
       "      <th>27</th>\n",
       "      <td>NaN</td>\n",
       "      <td>0.000000</td>\n",
       "      <td>NaN</td>\n",
       "      <td>0.3</td>\n",
       "      <td>0.225806</td>\n",
       "      <td>NaN</td>\n",
       "      <td>0.200000</td>\n",
       "      <td>NaN</td>\n",
       "      <td>NaN</td>\n",
       "      <td>0.000000</td>\n",
       "      <td>...</td>\n",
       "      <td>NaN</td>\n",
       "      <td>NaN</td>\n",
       "      <td>NaN</td>\n",
       "      <td>NaN</td>\n",
       "      <td>NaN</td>\n",
       "      <td>1.0</td>\n",
       "      <td>NaN</td>\n",
       "      <td>NaN</td>\n",
       "      <td>NaN</td>\n",
       "      <td>NaN</td>\n",
       "    </tr>\n",
       "    <tr>\n",
       "      <th>28</th>\n",
       "      <td>0.082192</td>\n",
       "      <td>NaN</td>\n",
       "      <td>NaN</td>\n",
       "      <td>NaN</td>\n",
       "      <td>0.300000</td>\n",
       "      <td>0.150000</td>\n",
       "      <td>0.250000</td>\n",
       "      <td>0.142857</td>\n",
       "      <td>0.170213</td>\n",
       "      <td>0.160000</td>\n",
       "      <td>...</td>\n",
       "      <td>0.285714</td>\n",
       "      <td>1.000000</td>\n",
       "      <td>0.800000</td>\n",
       "      <td>1.0</td>\n",
       "      <td>NaN</td>\n",
       "      <td>NaN</td>\n",
       "      <td>NaN</td>\n",
       "      <td>NaN</td>\n",
       "      <td>0.000000</td>\n",
       "      <td>NaN</td>\n",
       "    </tr>\n",
       "    <tr>\n",
       "      <th>29</th>\n",
       "      <td>NaN</td>\n",
       "      <td>0.181818</td>\n",
       "      <td>NaN</td>\n",
       "      <td>NaN</td>\n",
       "      <td>0.350000</td>\n",
       "      <td>NaN</td>\n",
       "      <td>0.200000</td>\n",
       "      <td>NaN</td>\n",
       "      <td>NaN</td>\n",
       "      <td>NaN</td>\n",
       "      <td>...</td>\n",
       "      <td>NaN</td>\n",
       "      <td>0.909091</td>\n",
       "      <td>NaN</td>\n",
       "      <td>NaN</td>\n",
       "      <td>NaN</td>\n",
       "      <td>NaN</td>\n",
       "      <td>NaN</td>\n",
       "      <td>NaN</td>\n",
       "      <td>0.000000</td>\n",
       "      <td>NaN</td>\n",
       "    </tr>\n",
       "    <tr>\n",
       "      <th>30</th>\n",
       "      <td>NaN</td>\n",
       "      <td>NaN</td>\n",
       "      <td>NaN</td>\n",
       "      <td>NaN</td>\n",
       "      <td>0.200000</td>\n",
       "      <td>0.272727</td>\n",
       "      <td>NaN</td>\n",
       "      <td>0.222222</td>\n",
       "      <td>NaN</td>\n",
       "      <td>1.000000</td>\n",
       "      <td>...</td>\n",
       "      <td>NaN</td>\n",
       "      <td>NaN</td>\n",
       "      <td>NaN</td>\n",
       "      <td>1.0</td>\n",
       "      <td>NaN</td>\n",
       "      <td>NaN</td>\n",
       "      <td>NaN</td>\n",
       "      <td>NaN</td>\n",
       "      <td>NaN</td>\n",
       "      <td>NaN</td>\n",
       "    </tr>\n",
       "    <tr>\n",
       "      <th>31</th>\n",
       "      <td>0.000000</td>\n",
       "      <td>0.000000</td>\n",
       "      <td>0.025</td>\n",
       "      <td>NaN</td>\n",
       "      <td>0.400000</td>\n",
       "      <td>NaN</td>\n",
       "      <td>NaN</td>\n",
       "      <td>NaN</td>\n",
       "      <td>NaN</td>\n",
       "      <td>NaN</td>\n",
       "      <td>...</td>\n",
       "      <td>0.375000</td>\n",
       "      <td>1.000000</td>\n",
       "      <td>0.869565</td>\n",
       "      <td>NaN</td>\n",
       "      <td>0.888889</td>\n",
       "      <td>NaN</td>\n",
       "      <td>1.0</td>\n",
       "      <td>NaN</td>\n",
       "      <td>0.000000</td>\n",
       "      <td>NaN</td>\n",
       "    </tr>\n",
       "    <tr>\n",
       "      <th>32</th>\n",
       "      <td>NaN</td>\n",
       "      <td>0.074074</td>\n",
       "      <td>NaN</td>\n",
       "      <td>NaN</td>\n",
       "      <td>NaN</td>\n",
       "      <td>NaN</td>\n",
       "      <td>NaN</td>\n",
       "      <td>0.200000</td>\n",
       "      <td>NaN</td>\n",
       "      <td>NaN</td>\n",
       "      <td>...</td>\n",
       "      <td>NaN</td>\n",
       "      <td>NaN</td>\n",
       "      <td>NaN</td>\n",
       "      <td>NaN</td>\n",
       "      <td>NaN</td>\n",
       "      <td>NaN</td>\n",
       "      <td>NaN</td>\n",
       "      <td>NaN</td>\n",
       "      <td>0.000000</td>\n",
       "      <td>NaN</td>\n",
       "    </tr>\n",
       "    <tr>\n",
       "      <th>33</th>\n",
       "      <td>NaN</td>\n",
       "      <td>NaN</td>\n",
       "      <td>0.360</td>\n",
       "      <td>NaN</td>\n",
       "      <td>NaN</td>\n",
       "      <td>0.562500</td>\n",
       "      <td>0.333333</td>\n",
       "      <td>0.777778</td>\n",
       "      <td>0.454545</td>\n",
       "      <td>0.285714</td>\n",
       "      <td>...</td>\n",
       "      <td>NaN</td>\n",
       "      <td>NaN</td>\n",
       "      <td>0.869565</td>\n",
       "      <td>NaN</td>\n",
       "      <td>1.000000</td>\n",
       "      <td>NaN</td>\n",
       "      <td>NaN</td>\n",
       "      <td>NaN</td>\n",
       "      <td>0.666667</td>\n",
       "      <td>NaN</td>\n",
       "    </tr>\n",
       "    <tr>\n",
       "      <th>34</th>\n",
       "      <td>NaN</td>\n",
       "      <td>NaN</td>\n",
       "      <td>NaN</td>\n",
       "      <td>NaN</td>\n",
       "      <td>0.260870</td>\n",
       "      <td>NaN</td>\n",
       "      <td>NaN</td>\n",
       "      <td>NaN</td>\n",
       "      <td>0.459459</td>\n",
       "      <td>0.000000</td>\n",
       "      <td>...</td>\n",
       "      <td>0.416667</td>\n",
       "      <td>NaN</td>\n",
       "      <td>0.833333</td>\n",
       "      <td>NaN</td>\n",
       "      <td>0.977273</td>\n",
       "      <td>NaN</td>\n",
       "      <td>NaN</td>\n",
       "      <td>NaN</td>\n",
       "      <td>0.000000</td>\n",
       "      <td>NaN</td>\n",
       "    </tr>\n",
       "    <tr>\n",
       "      <th>35</th>\n",
       "      <td>NaN</td>\n",
       "      <td>NaN</td>\n",
       "      <td>NaN</td>\n",
       "      <td>NaN</td>\n",
       "      <td>NaN</td>\n",
       "      <td>NaN</td>\n",
       "      <td>0.000000</td>\n",
       "      <td>NaN</td>\n",
       "      <td>NaN</td>\n",
       "      <td>NaN</td>\n",
       "      <td>...</td>\n",
       "      <td>NaN</td>\n",
       "      <td>NaN</td>\n",
       "      <td>NaN</td>\n",
       "      <td>NaN</td>\n",
       "      <td>NaN</td>\n",
       "      <td>NaN</td>\n",
       "      <td>NaN</td>\n",
       "      <td>NaN</td>\n",
       "      <td>NaN</td>\n",
       "      <td>NaN</td>\n",
       "    </tr>\n",
       "  </tbody>\n",
       "</table>\n",
       "<p>11 rows × 30 columns</p>\n",
       "</div>"
      ],
      "text/plain": [
       "AnnualIncome   300000    350000   400000   450000    500000    550000   \\\n",
       "Age                                                                      \n",
       "25                 NaN       NaN      NaN      NaN  0.250000       NaN   \n",
       "26                 NaN       NaN      NaN      0.4  0.100000  0.666667   \n",
       "27                 NaN  0.000000      NaN      0.3  0.225806       NaN   \n",
       "28            0.082192       NaN      NaN      NaN  0.300000  0.150000   \n",
       "29                 NaN  0.181818      NaN      NaN  0.350000       NaN   \n",
       "30                 NaN       NaN      NaN      NaN  0.200000  0.272727   \n",
       "31            0.000000  0.000000    0.025      NaN  0.400000       NaN   \n",
       "32                 NaN  0.074074      NaN      NaN       NaN       NaN   \n",
       "33                 NaN       NaN    0.360      NaN       NaN  0.562500   \n",
       "34                 NaN       NaN      NaN      NaN  0.260870       NaN   \n",
       "35                 NaN       NaN      NaN      NaN       NaN       NaN   \n",
       "\n",
       "AnnualIncome   600000    650000    700000    750000   ...   1300000   1350000  \\\n",
       "Age                                                   ...                       \n",
       "25            0.111111       NaN       NaN  0.363636  ...       NaN  0.833333   \n",
       "26            0.090909       NaN       NaN  0.000000  ...  0.250000       NaN   \n",
       "27            0.200000       NaN       NaN  0.000000  ...       NaN       NaN   \n",
       "28            0.250000  0.142857  0.170213  0.160000  ...  0.285714  1.000000   \n",
       "29            0.200000       NaN       NaN       NaN  ...       NaN  0.909091   \n",
       "30                 NaN  0.222222       NaN  1.000000  ...       NaN       NaN   \n",
       "31                 NaN       NaN       NaN       NaN  ...  0.375000  1.000000   \n",
       "32                 NaN  0.200000       NaN       NaN  ...       NaN       NaN   \n",
       "33            0.333333  0.777778  0.454545  0.285714  ...       NaN       NaN   \n",
       "34                 NaN       NaN  0.459459  0.000000  ...  0.416667       NaN   \n",
       "35            0.000000       NaN       NaN       NaN  ...       NaN       NaN   \n",
       "\n",
       "AnnualIncome   1400000  1450000   1500000  1550000  1650000   1700000  \\\n",
       "Age                                                                     \n",
       "25            0.944444      NaN       NaN      NaN      NaN  0.891892   \n",
       "26            0.972973      1.0  0.947368      NaN      NaN       NaN   \n",
       "27                 NaN      NaN       NaN      1.0      NaN       NaN   \n",
       "28            0.800000      1.0       NaN      NaN      NaN       NaN   \n",
       "29                 NaN      NaN       NaN      NaN      NaN       NaN   \n",
       "30                 NaN      1.0       NaN      NaN      NaN       NaN   \n",
       "31            0.869565      NaN  0.888889      NaN      1.0       NaN   \n",
       "32                 NaN      NaN       NaN      NaN      NaN       NaN   \n",
       "33            0.869565      NaN  1.000000      NaN      NaN       NaN   \n",
       "34            0.833333      NaN  0.977273      NaN      NaN       NaN   \n",
       "35                 NaN      NaN       NaN      NaN      NaN       NaN   \n",
       "\n",
       "AnnualIncome   1750000  1800000  \n",
       "Age                              \n",
       "25            1.000000      1.0  \n",
       "26            0.000000      NaN  \n",
       "27                 NaN      NaN  \n",
       "28            0.000000      NaN  \n",
       "29            0.000000      NaN  \n",
       "30                 NaN      NaN  \n",
       "31            0.000000      NaN  \n",
       "32            0.000000      NaN  \n",
       "33            0.666667      NaN  \n",
       "34            0.000000      NaN  \n",
       "35                 NaN      NaN  \n",
       "\n",
       "[11 rows x 30 columns]"
      ]
     },
     "execution_count": 59,
     "metadata": {},
     "output_type": "execute_result"
    }
   ],
   "source": [
    "# what is the relationship between age, income, and purchase of travel insurance? \n",
    "df_heat=df.pivot_table(index='Age', columns='AnnualIncome', values='TravelInsurance', aggfunc=np.mean)\n",
    "df_heat"
   ]
  },
  {
   "cell_type": "code",
   "execution_count": 60,
   "id": "3b18b7dd-7cbe-4d4d-8b99-1d56121acaab",
   "metadata": {},
   "outputs": [
    {
     "data": {
      "image/png": "[encoded data removed]",
      "text/plain": [
       "<Figure size 864x432 with 2 Axes>"
      ]
     },
     "metadata": {},
     "output_type": "display_data"
    }
   ],
   "source": [
    "# heat map\n",
    "sns.color_palette(\"copper_r\", as_cmap=True)\n",
    "sns.heatmap(df_heat, cmap=\"copper_r\")\n",
    "plt.title('Likelihood of Purchasing Travel Insurance', size=20)\n",
    "plt.ylabel('Age', size=14)\n",
    "plt.xlabel('Income', size=14)\n",
    "plt.show()"
   ]
  },
  {
   "cell_type": "code",
   "execution_count": 61,
   "id": "a950cf8f-7170-44e3-a0b9-6a3d88a17850",
   "metadata": {},
   "outputs": [
    {
     "data": {
      "text/html": [
       "<div>\n",
       "<style scoped>\n",
       "    .dataframe tbody tr th:only-of-type {\n",
       "        vertical-align: middle;\n",
       "    }\n",
       "\n",
       "    .dataframe tbody tr th {\n",
       "        vertical-align: top;\n",
       "    }\n",
       "\n",
       "    .dataframe thead th {\n",
       "        text-align: right;\n",
       "    }\n",
       "</style>\n",
       "<table border=\"1\" class=\"dataframe\">\n",
       "  <thead>\n",
       "    <tr style=\"text-align: right;\">\n",
       "      <th>EverTravelledAbroad</th>\n",
       "      <th>No</th>\n",
       "      <th>Yes</th>\n",
       "    </tr>\n",
       "    <tr>\n",
       "      <th>FrequentFlyer</th>\n",
       "      <th></th>\n",
       "      <th></th>\n",
       "    </tr>\n",
       "  </thead>\n",
       "  <tbody>\n",
       "    <tr>\n",
       "      <th>No</th>\n",
       "      <td>0.236377</td>\n",
       "      <td>0.707547</td>\n",
       "    </tr>\n",
       "    <tr>\n",
       "      <th>Yes</th>\n",
       "      <td>0.365462</td>\n",
       "      <td>0.880952</td>\n",
       "    </tr>\n",
       "  </tbody>\n",
       "</table>\n",
       "</div>"
      ],
      "text/plain": [
       "EverTravelledAbroad        No       Yes\n",
       "FrequentFlyer                          \n",
       "No                   0.236377  0.707547\n",
       "Yes                  0.365462  0.880952"
      ]
     },
     "execution_count": 61,
     "metadata": {},
     "output_type": "execute_result"
    }
   ],
   "source": [
    "# what is the relationship between age, family size, and purchase of travel insurance? \n",
    "df_heat=df.pivot_table(index='FrequentFlyer', columns='EverTravelledAbroad', values='TravelInsurance', aggfunc=np.mean)\n",
    "df_heat"
   ]
  },
  {
   "cell_type": "code",
   "execution_count": 62,
   "id": "d113adfd-d1ef-439f-a72d-b44bc1f9c7ae",
   "metadata": {},
   "outputs": [
    {
     "data": {
      "image/png": "[encoded data removed]",
      "text/plain": [
       "<Figure size 864x432 with 2 Axes>"
      ]
     },
     "metadata": {},
     "output_type": "display_data"
    }
   ],
   "source": [
    "# heat map\n",
    "sns.color_palette(\"copper_r\", as_cmap=True)\n",
    "sns.heatmap(df_heat, cmap=\"copper_r\")\n",
    "plt.title('Likelihood of Purchasing Travel Insurance', size=20)\n",
    "plt.ylabel('Frequent Flyer', size=14)\n",
    "plt.xlabel('Ever Travelled Abroad', size=14)\n",
    "plt.show()"
   ]
  },
  {
   "cell_type": "code",
   "execution_count": 63,
   "id": "3ba1d9f8-bc9b-4fef-b3ca-97c70bf05678",
   "metadata": {},
   "outputs": [
    {
     "data": {
      "text/html": [
       "<div>\n",
       "<style scoped>\n",
       "    .dataframe tbody tr th:only-of-type {\n",
       "        vertical-align: middle;\n",
       "    }\n",
       "\n",
       "    .dataframe tbody tr th {\n",
       "        vertical-align: top;\n",
       "    }\n",
       "\n",
       "    .dataframe thead th {\n",
       "        text-align: right;\n",
       "    }\n",
       "</style>\n",
       "<table border=\"1\" class=\"dataframe\">\n",
       "  <thead>\n",
       "    <tr style=\"text-align: right;\">\n",
       "      <th>ChronicDiseases</th>\n",
       "      <th>0</th>\n",
       "      <th>1</th>\n",
       "    </tr>\n",
       "    <tr>\n",
       "      <th>GraduateOrNot</th>\n",
       "      <th></th>\n",
       "      <th></th>\n",
       "    </tr>\n",
       "  </thead>\n",
       "  <tbody>\n",
       "    <tr>\n",
       "      <th>No</th>\n",
       "      <td>0.337900</td>\n",
       "      <td>0.328947</td>\n",
       "    </tr>\n",
       "    <tr>\n",
       "      <th>Yes</th>\n",
       "      <td>0.354441</td>\n",
       "      <td>0.378151</td>\n",
       "    </tr>\n",
       "  </tbody>\n",
       "</table>\n",
       "</div>"
      ],
      "text/plain": [
       "ChronicDiseases         0         1\n",
       "GraduateOrNot                      \n",
       "No               0.337900  0.328947\n",
       "Yes              0.354441  0.378151"
      ]
     },
     "execution_count": 63,
     "metadata": {},
     "output_type": "execute_result"
    }
   ],
   "source": [
    "# what is the relationship between the last two variables?\n",
    "df_heat=df.pivot_table(index='GraduateOrNot', columns='ChronicDiseases', values='TravelInsurance', aggfunc=np.mean)\n",
    "df_heat"
   ]
  },
  {
   "cell_type": "code",
   "execution_count": 64,
   "id": "4b2616c9-8c60-4129-b810-4305b0826ef8",
   "metadata": {},
   "outputs": [
    {
     "data": {
      "image/png": "[encoded data removed]",
      "text/plain": [
       "<Figure size 864x432 with 2 Axes>"
      ]
     },
     "metadata": {},
     "output_type": "display_data"
    }
   ],
   "source": [
    "# heat map\n",
    "col = ['No', 'Yes']\n",
    "sns.color_palette(\"copper_r\", as_cmap=True)\n",
    "sns.heatmap(df_heat, cmap=\"copper_r\", xticklabels=col)\n",
    "plt.title('Likelihood of Purchasing Travel Insurance', size=20)\n",
    "plt.ylabel('College Graduate', size=14)\n",
    "plt.xlabel('Chronic Condition', size=14)\n",
    "plt.show()"
   ]
  },
  {
   "cell_type": "code",
   "execution_count": 65,
   "id": "d20bf64e-8526-4c2a-811e-7020816f3052",
   "metadata": {},
   "outputs": [
    {
     "data": {
      "image/png": "[encoded data removed]",
      "text/plain": [
       "<Figure size 864x432 with 1 Axes>"
      ]
     },
     "metadata": {},
     "output_type": "display_data"
    }
   ],
   "source": [
    "# count of customers and non-customers by age\n",
    "ax=plt.hist([cust['Age'], non_cust['Age']], color=['Brown','Orange'], label=['Customers','Non-Customerss'])\n",
    "plt.title(\"Customers and Non-Customers by Age\", size=20)\n",
    "plt.xlabel('Age', size=14)\n",
    "plt.ylabel('Count', size=14)\n",
    "plt.xticks([25, 26, 27, 28, 29, 30, 31, 32, 33, 34, 35])\n",
    "plt.legend()\n",
    "ax;"
   ]
  },
  {
   "cell_type": "code",
   "execution_count": 66,
   "id": "8f44be79-cc11-4556-8fdf-1681ec60d0ca",
   "metadata": {},
   "outputs": [
    {
     "data": {
      "image/png": "[encoded data removed]",
      "text/plain": [
       "<Figure size 864x432 with 1 Axes>"
      ]
     },
     "metadata": {},
     "output_type": "display_data"
    }
   ],
   "source": [
    "# count of customers and non-customers by income\n",
    "ax=plt.hist([cust['AnnualIncome'], non_cust['AnnualIncome']], color=['Brown','Orange'], label=['Customers','Non-Customerss'])\n",
    "plt.title(\"Customers and Non-Customers by Annual Income\", size=20)\n",
    "plt.xlabel('Annual Income', size=14)\n",
    "plt.ylabel('Count', size=14)\n",
    "plt.legend()\n",
    "ax;"
   ]
  }
 ],
 "metadata": {
  "kernelspec": {
   "display_name": "Python 3 (ipykernel)",
   "language": "python",
   "name": "python3"
  },
  "language_info": {
   "codemirror_mode": {
    "name": "ipython",
    "version": 3
   },
   "file_extension": ".py",
   "mimetype": "text/x-python",
   "name": "python",
   "nbconvert_exporter": "python",
   "pygments_lexer": "ipython3",
   "version": "3.9.7"
  }
 },
 "nbformat": 4,
 "nbformat_minor": 5
}
